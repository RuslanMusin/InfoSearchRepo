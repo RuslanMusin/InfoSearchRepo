{
 "cells": [
  {
   "cell_type": "code",
   "execution_count": 58,
   "metadata": {},
   "outputs": [],
   "source": [
    "from zipfile import ZIP_DEFLATED, ZipFile\n",
    "import io\n",
    "\n",
    "# считываем тексты\n",
    "def read_texts():\n",
    "    data = []\n",
    "    with ZipFile('../task2/texts.zip', 'r', ZIP_DEFLATED) as zipFile:\n",
    "        for info in zipFile.infolist():\n",
    "            with io.TextIOWrapper(zipFile.open(info.filename), encoding=\"utf-8\") as f:\n",
    "                data.append(f.read())\n",
    "    print(f'posts length = {len(data)}')\n",
    "    return data"
   ]
  },
  {
   "cell_type": "code",
   "execution_count": 59,
   "metadata": {},
   "outputs": [],
   "source": [
    "from nltk.corpus import stopwords\n",
    "import string\n",
    "\n",
    "# читаем стоп слова\n",
    "def read_stop_words():\n",
    "    stop_words = stopwords.words(\"russian\")\n",
    "    for ch in string.punctuation:\n",
    "        stop_words.append(ch)\n",
    "    return stop_words"
   ]
  },
  {
   "cell_type": "code",
   "execution_count": 60,
   "metadata": {},
   "outputs": [],
   "source": [
    "from nltk import word_tokenize\n",
    "\n",
    "# получаем токены с текста\n",
    "def get_tokens(text, stop_words):\n",
    "    tokens = word_tokenize(text.replace(\"-\", \" \"), language=\"russian\")\n",
    "    tokens = [i.lower() for i in tokens]\n",
    "    tokens = ([i for i in tokens if i not in stop_words])\n",
    "    tokens = [i for i in tokens if i != \"\" and i.isalpha()]\n",
    "    return tokens"
   ]
  },
  {
   "cell_type": "code",
   "execution_count": 61,
   "metadata": {},
   "outputs": [],
   "source": [
    "import pymorphy2\n",
    "\n",
    "morph = pymorphy2.MorphAnalyzer()\n",
    "\n",
    "# получаем нормальную форма слова\n",
    "def get_lemma(token):\n",
    "    return morph.parse(token)[0].normal_form"
   ]
  },
  {
   "cell_type": "code",
   "execution_count": 62,
   "metadata": {},
   "outputs": [],
   "source": [
    "# получаем инвертированный список терминов из текстов\n",
    "def get_inverted_index(texts):\n",
    "    stop_words = read_stop_words()\n",
    "    terms = {}\n",
    "    for i, text in enumerate(texts):\n",
    "        tokens = get_tokens(text, stop_words)\n",
    "        lemmas = list(dict.fromkeys([get_lemma(token) for token in tokens]))\n",
    "        for token in lemmas:\n",
    "            if terms.get(token, None) is None:\n",
    "                terms[token] = []\n",
    "            terms[token].append(i + 1)\n",
    "    return dict(sorted(terms.items()))"
   ]
  },
  {
   "cell_type": "code",
   "execution_count": 63,
   "metadata": {},
   "outputs": [],
   "source": [
    "import json\n",
    "\n",
    "# записываем индекс в файл\n",
    "def write_index(index):\n",
    "    with open('index.json', 'w', encoding='utf8') as outfile:\n",
    "        json.dump(index, outfile, indent=4, ensure_ascii=False)"
   ]
  },
  {
   "cell_type": "code",
   "execution_count": 64,
   "metadata": {},
   "outputs": [],
   "source": [
    "# читаем индекс\n",
    "def read_index():\n",
    "    with open('index.json', 'r', encoding='utf8') as file:\n",
    "        return json.load(file)"
   ]
  },
  {
   "cell_type": "code",
   "execution_count": 65,
   "metadata": {},
   "outputs": [
    {
     "name": "stdout",
     "output_type": "stream",
     "text": [
      "posts length = 100\n"
     ]
    }
   ],
   "source": [
    "# получаем индекс для текстов и записываем его в файл\n",
    "inverted_index = get_inverted_index(read_texts())        \n",
    "write_index(inverted_index)"
   ]
  },
  {
   "cell_type": "code",
   "execution_count": 66,
   "metadata": {},
   "outputs": [],
   "source": [
    "import enum\n",
    "\n",
    "# операции для булева поиска\n",
    "class Operations(enum.Enum):\n",
    "    AND = (\" \")\n",
    "    OR = (\"or\")\n",
    "    NOT = (\"-\")\n",
    "    START_BRACKET = (\"(\")\n",
    "    END_BRACKET = (\")\")\n",
    "    \n",
    "    def __init__(self, title):\n",
    "        self.title = title"
   ]
  },
  {
   "cell_type": "code",
   "execution_count": 67,
   "metadata": {},
   "outputs": [],
   "source": [
    "# класс для операций\n",
    "class Operation:\n",
    "\n",
    "    def __init__(self, operation=None, parent=None):\n",
    "        self.operation = operation\n",
    "        self.parent = parent\n",
    "        self.current_word: str = \"\"\n",
    "        self.included_operation = None\n",
    "\n",
    "    def __str__(self):\n",
    "        return f'[operation = {self.operation} ' \\\n",
    "               f'current_word = {self.current_word}]'\n",
    "\n",
    "    def __repr__(self):\n",
    "        return self.__str__()\n",
    "\n",
    "    # получаем нормальную форму слова в операции\n",
    "    def token(self): \n",
    "        token = self.current_word\n",
    "        if token != \"\":\n",
    "            return morph.parse(token)[0].normal_form\n",
    "        else:\n",
    "            return token"
   ]
  },
  {
   "cell_type": "code",
   "execution_count": 68,
   "metadata": {},
   "outputs": [],
   "source": [
    "# класс для группировок\n",
    "class Group:\n",
    "\n",
    "    def __init__(self, parent=None):\n",
    "        self.operations = []\n",
    "        self.parent = parent\n",
    "        if parent is not None:\n",
    "            parent.operations.append(self)\n",
    "\n",
    "    def __str__(self):\n",
    "        return f'\\n[operations = {self.operations}\\n]'\n",
    "\n",
    "    def __repr__(self):\n",
    "        return self.__str__()"
   ]
  },
  {
   "cell_type": "code",
   "execution_count": 69,
   "metadata": {},
   "outputs": [],
   "source": [
    "# метод для получения структуры запроса\n",
    "def parse_request(request):\n",
    "    current_word = \"\"\n",
    "    request = request.lower().strip()\n",
    "    tokens = get_tokens(request, read_stop_words())\n",
    "    tokens = [get_lemma(token) for token in tokens]\n",
    "    stop_words = [item for item in request.split(\" \") if (item in read_stop_words() and not [\"or\", \"-\"])]\n",
    "    group = Group()\n",
    "    top_group = group\n",
    "    current_oper = Operation()\n",
    "    for i in request:\n",
    "        if i == Operations.START_BRACKET.title:\n",
    "            if current_oper.operation is None:\n",
    "                current_oper.operation = Operations.AND\n",
    "            group.operations.append(current_oper)\n",
    "            group = Group(group)\n",
    "            current_oper = Operation()\n",
    "        elif i == Operations.END_BRACKET.title:\n",
    "            group.operations.append(current_oper)\n",
    "            group = group.parent\n",
    "            current_oper = Operation(Operations.AND)\n",
    "        elif i == Operations.NOT.title:\n",
    "            current_oper = Operation(Operations.NOT)\n",
    "        elif i.isalpha():\n",
    "            if current_oper.operation is None:\n",
    "                current_oper.operation = Operations.AND\n",
    "            current_oper.current_word += i\n",
    "        elif i == Operations.AND.title and current_oper.current_word.isalpha():\n",
    "            if current_oper.current_word in stop_words:\n",
    "                current_oper.current_word = \"\"\n",
    "            else:\n",
    "                if current_oper.current_word == Operations.OR.title:\n",
    "                    current_oper.current_word = \"\"\n",
    "                    group.operations.append(current_oper)\n",
    "                    current_oper = Operation(Operations.OR)\n",
    "                    current_oper.current_word = \"\"\n",
    "                else:\n",
    "                    if current_oper not in group.operations:\n",
    "                        group.operations.append(current_oper)\n",
    "                    current_oper = Operation(Operations.AND)\n",
    "                    group.operations.append(current_oper)\n",
    "    if current_oper not in group.operations:\n",
    "        group.operations.append(current_oper)\n",
    "    return top_group"
   ]
  },
  {
   "cell_type": "code",
   "execution_count": 77,
   "metadata": {},
   "outputs": [],
   "source": [
    "# метод для получения результата запроса\n",
    "def resolve_request(request_struct, index):\n",
    "    result = set()\n",
    "    current_operator = None\n",
    "    result_set = False\n",
    "    for i, operation in enumerate(request_struct.operations):\n",
    "        if isinstance(operation, Group):\n",
    "            group_result = resolve_request(operation, index)\n",
    "            if current_operator is not None:\n",
    "                if current_operator.operation == Operations.AND:\n",
    "                    if result_set:\n",
    "                        result = result.intersection(group_result)\n",
    "                    else:\n",
    "                        result = result.union(group_result)\n",
    "                if current_operator.operation == Operations.NOT:\n",
    "                    if group_result is not None:\n",
    "                        excluded = set(group_result)\n",
    "                        if not result_set:\n",
    "                            result = set([item for sublist in inverted_index.values() for item in sublist]).difference(excluded)\n",
    "                        else:\n",
    "                            result = result.difference(excluded)\n",
    "                if current_operator.operation == Operations.OR:\n",
    "                    result = result.union(group_result)\n",
    "                current_operator = None\n",
    "        elif isinstance(operation, Operation):\n",
    "            if operation.token() == \"\":\n",
    "                current_operator = operation\n",
    "            elif operation.token() not in read_stop_words():\n",
    "                if operation.operation == Operations.AND:\n",
    "                    docs = inverted_index.get(operation.token(), set())\n",
    "                    if not result_set:\n",
    "                        if len(docs) > 0:\n",
    "                            result = result.union(docs)\n",
    "                            result_set = True\n",
    "                        else:\n",
    "                            result = result.intersection(docs)\n",
    "                    else:\n",
    "                        result = result.intersection(docs)\n",
    "                elif operation.operation == Operations.NOT:\n",
    "                    docs = inverted_index.get(operation.token(), None)\n",
    "                    if docs is not None:\n",
    "                        excluded = set(docs)\n",
    "                        if current_operator is not None:\n",
    "                            if current_operator.operation == Operations.AND:\n",
    "                                result = result.difference(excluded)\n",
    "                            current_operator = None\n",
    "                        else:\n",
    "                            if not result_set:\n",
    "                                result = set([item for sublist in inverted_index.values() for item in sublist]).difference(excluded)\n",
    "                            else:\n",
    "                                result = result.difference(excluded)\n",
    "                elif operation.operation == Operations.OR:\n",
    "                    docs = inverted_index.get(operation.token(), None)\n",
    "                    if len(docs) > 0:\n",
    "                        if current_operator is not None:\n",
    "                            if current_operator.operation == Operations.AND:\n",
    "                                result = result.union(docs)\n",
    "                            current_operator = None\n",
    "    return result"
   ]
  },
  {
   "cell_type": "code",
   "execution_count": 78,
   "metadata": {},
   "outputs": [],
   "source": [
    "# булев поиск с использованием индекса\n",
    "def search_request(request, inverted_index):\n",
    "    request_struct = parse_request(request)\n",
    "    result = resolve_request(request_struct, inverted_index)\n",
    "    return result"
   ]
  },
  {
   "cell_type": "code",
   "execution_count": 109,
   "metadata": {},
   "outputs": [],
   "source": [
    "# читаем urls\n",
    "def read_urls():\n",
    "    with open('../task1/index.txt') as f:\n",
    "        lines = f.readlines()\n",
    "        result = {}\n",
    "        for i, line in enumerate(lines):\n",
    "            items = line.split(\" \")\n",
    "            url = items[1].replace(\"\\n\", \"\")\n",
    "            result[i + 1] = url\n",
    "        return result"
   ]
  },
  {
   "cell_type": "code",
   "execution_count": 86,
   "metadata": {},
   "outputs": [],
   "source": [
    "# записываем индекс в файл\n",
    "def write_results(results):\n",
    "    with open('results.json', 'w', encoding='utf8') as outfile:\n",
    "        json.dump(results, outfile, indent=4, ensure_ascii=False)"
   ]
  },
  {
   "cell_type": "code",
   "execution_count": 113,
   "metadata": {},
   "outputs": [
    {
     "name": "stdout",
     "output_type": "stream",
     "text": [
      "сообщество (программистов -хабр) OR разработчики = [{4: 'https://habr.com/ru/post/206900/'}, {6: 'https://habr.com/ru/post/534242/'}, {11: 'https://habr.com/ru/post/183674/'}, {12: 'https://habr.com/ru/post/522524/'}, {14: 'https://habr.com/ru/post/347760/'}, {15: 'https://habr.com/ru/post/543692/'}, {16: 'https://habr.com/ru/post/147042/'}, {20: 'https://habr.com/ru/post/129640/'}, {22: 'https://habr.com/ru/post/316912/'}, {23: 'https://habr.com/ru/post/439766/'}, {25: 'https://habr.com/ru/post/273249/'}, {27: 'https://habr.com/ru/post/415841/'}, {28: 'https://habr.com/ru/post/117367/'}, {30: 'https://habr.com/ru/post/507498/'}, {36: 'https://habr.com/ru/post/86394/'}, {39: 'https://habr.com/ru/post/541114/'}, {40: 'https://habr.com/ru/post/146730/'}, {41: 'https://habr.com/ru/post/142140/'}, {42: 'https://habr.com/ru/post/275841/'}, {43: 'https://habr.com/ru/post/438514/'}, {44: 'https://habr.com/ru/post/278827/'}, {45: 'https://habr.com/ru/post/147828/'}, {46: 'https://habr.com/ru/post/540136/'}, {48: 'https://habr.com/ru/post/59187/'}, {59: 'https://habr.com/ru/post/488592/'}, {65: 'https://habr.com/ru/post/134373/'}, {66: 'https://habr.com/ru/post/335010/'}, {70: 'https://habr.com/ru/post/178339/'}, {73: 'https://habr.com/ru/post/483156/'}, {77: 'https://habr.com/ru/post/192604/'}, {83: 'https://habr.com/ru/post/497114/'}, {85: 'https://habr.com/ru/post/201172/'}, {88: 'https://habr.com/ru/post/210142/'}, {89: 'https://habr.com/ru/post/49778/'}, {90: 'https://habr.com/ru/post/70330/'}, {93: 'https://habr.com/ru/post/254473/'}, {95: 'https://habr.com/ru/post/134150/'}, {97: 'https://habr.com/ru/post/423889/'}, {98: 'https://habr.com/ru/post/542372/'}, {100: 'https://habr.com/ru/post/128278/'}]\n",
      "сообщество = [{7: 'https://habr.com/ru/post/183374/'}, {15: 'https://habr.com/ru/post/543692/'}, {20: 'https://habr.com/ru/post/129640/'}, {22: 'https://habr.com/ru/post/316912/'}, {28: 'https://habr.com/ru/post/117367/'}, {35: 'https://habr.com/ru/post/176481/'}, {36: 'https://habr.com/ru/post/86394/'}, {39: 'https://habr.com/ru/post/541114/'}, {52: 'https://habr.com/ru/post/448530/'}, {59: 'https://habr.com/ru/post/488592/'}, {62: 'https://habr.com/ru/post/192218/'}, {73: 'https://habr.com/ru/post/483156/'}, {75: 'https://habr.com/ru/post/491974/'}, {97: 'https://habr.com/ru/post/423889/'}, {98: 'https://habr.com/ru/post/542372/'}]\n",
      "разработчики = [{4: 'https://habr.com/ru/post/206900/'}, {6: 'https://habr.com/ru/post/534242/'}, {11: 'https://habr.com/ru/post/183674/'}, {12: 'https://habr.com/ru/post/522524/'}, {14: 'https://habr.com/ru/post/347760/'}, {15: 'https://habr.com/ru/post/543692/'}, {16: 'https://habr.com/ru/post/147042/'}, {20: 'https://habr.com/ru/post/129640/'}, {22: 'https://habr.com/ru/post/316912/'}, {23: 'https://habr.com/ru/post/439766/'}, {25: 'https://habr.com/ru/post/273249/'}, {27: 'https://habr.com/ru/post/415841/'}, {28: 'https://habr.com/ru/post/117367/'}, {30: 'https://habr.com/ru/post/507498/'}, {36: 'https://habr.com/ru/post/86394/'}, {39: 'https://habr.com/ru/post/541114/'}, {40: 'https://habr.com/ru/post/146730/'}, {41: 'https://habr.com/ru/post/142140/'}, {42: 'https://habr.com/ru/post/275841/'}, {43: 'https://habr.com/ru/post/438514/'}, {44: 'https://habr.com/ru/post/278827/'}, {45: 'https://habr.com/ru/post/147828/'}, {46: 'https://habr.com/ru/post/540136/'}, {48: 'https://habr.com/ru/post/59187/'}, {59: 'https://habr.com/ru/post/488592/'}, {65: 'https://habr.com/ru/post/134373/'}, {66: 'https://habr.com/ru/post/335010/'}, {70: 'https://habr.com/ru/post/178339/'}, {73: 'https://habr.com/ru/post/483156/'}, {77: 'https://habr.com/ru/post/192604/'}, {83: 'https://habr.com/ru/post/497114/'}, {85: 'https://habr.com/ru/post/201172/'}, {88: 'https://habr.com/ru/post/210142/'}, {89: 'https://habr.com/ru/post/49778/'}, {90: 'https://habr.com/ru/post/70330/'}, {93: 'https://habr.com/ru/post/254473/'}, {95: 'https://habr.com/ru/post/134150/'}, {97: 'https://habr.com/ru/post/423889/'}, {98: 'https://habr.com/ru/post/542372/'}, {100: 'https://habr.com/ru/post/128278/'}]\n",
      "программистов = [{2: 'https://habr.com/ru/post/110395/'}, {11: 'https://habr.com/ru/post/183674/'}, {12: 'https://habr.com/ru/post/522524/'}, {15: 'https://habr.com/ru/post/543692/'}, {20: 'https://habr.com/ru/post/129640/'}, {25: 'https://habr.com/ru/post/273249/'}, {36: 'https://habr.com/ru/post/86394/'}, {38: 'https://habr.com/ru/post/126373/'}, {41: 'https://habr.com/ru/post/142140/'}, {42: 'https://habr.com/ru/post/275841/'}, {43: 'https://habr.com/ru/post/438514/'}, {53: 'https://habr.com/ru/post/450266/'}, {55: 'https://habr.com/ru/post/178959/'}, {59: 'https://habr.com/ru/post/488592/'}, {69: 'https://habr.com/ru/post/51544/'}, {77: 'https://habr.com/ru/post/192604/'}, {80: 'https://habr.com/ru/post/161301/'}, {83: 'https://habr.com/ru/post/497114/'}, {88: 'https://habr.com/ru/post/210142/'}, {90: 'https://habr.com/ru/post/70330/'}, {97: 'https://habr.com/ru/post/423889/'}, {99: 'https://habr.com/ru/post/476916/'}, {100: 'https://habr.com/ru/post/128278/'}]\n",
      "блогеры = [{7: 'https://habr.com/ru/post/183374/'}]\n",
      "(блогеров OR программистов) = [{2: 'https://habr.com/ru/post/110395/'}, {7: 'https://habr.com/ru/post/183374/'}, {11: 'https://habr.com/ru/post/183674/'}, {12: 'https://habr.com/ru/post/522524/'}, {15: 'https://habr.com/ru/post/543692/'}, {20: 'https://habr.com/ru/post/129640/'}, {25: 'https://habr.com/ru/post/273249/'}, {36: 'https://habr.com/ru/post/86394/'}, {38: 'https://habr.com/ru/post/126373/'}, {41: 'https://habr.com/ru/post/142140/'}, {42: 'https://habr.com/ru/post/275841/'}, {43: 'https://habr.com/ru/post/438514/'}, {53: 'https://habr.com/ru/post/450266/'}, {55: 'https://habr.com/ru/post/178959/'}, {59: 'https://habr.com/ru/post/488592/'}, {69: 'https://habr.com/ru/post/51544/'}, {77: 'https://habr.com/ru/post/192604/'}, {80: 'https://habr.com/ru/post/161301/'}, {83: 'https://habr.com/ru/post/497114/'}, {88: 'https://habr.com/ru/post/210142/'}, {90: 'https://habr.com/ru/post/70330/'}, {97: 'https://habr.com/ru/post/423889/'}, {99: 'https://habr.com/ru/post/476916/'}, {100: 'https://habr.com/ru/post/128278/'}]\n",
      "зная человека = [{1: 'https://habr.com/ru/post/149179/'}, {4: 'https://habr.com/ru/post/206900/'}, {6: 'https://habr.com/ru/post/534242/'}, {7: 'https://habr.com/ru/post/183374/'}, {11: 'https://habr.com/ru/post/183674/'}, {12: 'https://habr.com/ru/post/522524/'}, {13: 'https://habr.com/ru/post/216315/'}, {14: 'https://habr.com/ru/post/347760/'}, {15: 'https://habr.com/ru/post/543692/'}, {16: 'https://habr.com/ru/post/147042/'}, {17: 'https://habr.com/ru/post/117193/'}, {19: 'https://habr.com/ru/post/543174/'}, {20: 'https://habr.com/ru/post/129640/'}, {22: 'https://habr.com/ru/post/316912/'}, {23: 'https://habr.com/ru/post/439766/'}, {24: 'https://habr.com/ru/post/131386/'}, {25: 'https://habr.com/ru/post/273249/'}, {34: 'https://habr.com/ru/post/172393/'}, {36: 'https://habr.com/ru/post/86394/'}, {38: 'https://habr.com/ru/post/126373/'}, {39: 'https://habr.com/ru/post/541114/'}, {40: 'https://habr.com/ru/post/146730/'}, {41: 'https://habr.com/ru/post/142140/'}, {42: 'https://habr.com/ru/post/275841/'}, {43: 'https://habr.com/ru/post/438514/'}, {50: 'https://habr.com/ru/post/130877/'}, {52: 'https://habr.com/ru/post/448530/'}, {53: 'https://habr.com/ru/post/450266/'}, {54: 'https://habr.com/ru/post/440092/'}, {55: 'https://habr.com/ru/post/178959/'}, {62: 'https://habr.com/ru/post/192218/'}, {66: 'https://habr.com/ru/post/335010/'}, {67: 'https://habr.com/ru/post/185806/'}, {68: 'https://habr.com/ru/post/87060/'}, {72: 'https://habr.com/ru/post/56923/'}, {73: 'https://habr.com/ru/post/483156/'}, {74: 'https://habr.com/ru/post/217645/'}, {75: 'https://habr.com/ru/post/491974/'}, {78: 'https://habr.com/ru/post/67141/'}, {79: 'https://habr.com/ru/post/211701/'}, {83: 'https://habr.com/ru/post/497114/'}, {84: 'https://habr.com/ru/post/536750/'}, {85: 'https://habr.com/ru/post/201172/'}, {90: 'https://habr.com/ru/post/70330/'}, {91: 'https://habr.com/ru/post/480956/'}, {93: 'https://habr.com/ru/post/254473/'}, {97: 'https://habr.com/ru/post/423889/'}, {98: 'https://habr.com/ru/post/542372/'}, {99: 'https://habr.com/ru/post/476916/'}]\n",
      "зная человека можно or (программистов or инженеров) -программистов = [{1: 'https://habr.com/ru/post/149179/'}, {4: 'https://habr.com/ru/post/206900/'}, {6: 'https://habr.com/ru/post/534242/'}, {7: 'https://habr.com/ru/post/183374/'}, {13: 'https://habr.com/ru/post/216315/'}, {14: 'https://habr.com/ru/post/347760/'}, {16: 'https://habr.com/ru/post/147042/'}, {17: 'https://habr.com/ru/post/117193/'}, {19: 'https://habr.com/ru/post/543174/'}, {22: 'https://habr.com/ru/post/316912/'}, {23: 'https://habr.com/ru/post/439766/'}, {24: 'https://habr.com/ru/post/131386/'}, {27: 'https://habr.com/ru/post/415841/'}, {29: 'https://habr.com/ru/post/543688/'}, {34: 'https://habr.com/ru/post/172393/'}, {39: 'https://habr.com/ru/post/541114/'}, {40: 'https://habr.com/ru/post/146730/'}, {50: 'https://habr.com/ru/post/130877/'}, {52: 'https://habr.com/ru/post/448530/'}, {54: 'https://habr.com/ru/post/440092/'}, {62: 'https://habr.com/ru/post/192218/'}, {64: 'https://habr.com/ru/post/543052/'}, {66: 'https://habr.com/ru/post/335010/'}, {67: 'https://habr.com/ru/post/185806/'}, {68: 'https://habr.com/ru/post/87060/'}, {72: 'https://habr.com/ru/post/56923/'}, {73: 'https://habr.com/ru/post/483156/'}, {74: 'https://habr.com/ru/post/217645/'}, {75: 'https://habr.com/ru/post/491974/'}, {78: 'https://habr.com/ru/post/67141/'}, {79: 'https://habr.com/ru/post/211701/'}, {84: 'https://habr.com/ru/post/536750/'}, {85: 'https://habr.com/ru/post/201172/'}, {91: 'https://habr.com/ru/post/480956/'}, {93: 'https://habr.com/ru/post/254473/'}, {94: 'https://habr.com/ru/post/86282/'}, {98: 'https://habr.com/ru/post/542372/'}]\n",
      "уволить с работы = [{12: 'https://habr.com/ru/post/522524/'}, {29: 'https://habr.com/ru/post/543688/'}, {42: 'https://habr.com/ru/post/275841/'}, {83: 'https://habr.com/ru/post/497114/'}, {99: 'https://habr.com/ru/post/476916/'}]\n",
      "сдать проект = [{12: 'https://habr.com/ru/post/522524/'}, {43: 'https://habr.com/ru/post/438514/'}]\n",
      "сдать проект or дедлайн = [{12: 'https://habr.com/ru/post/522524/'}, {32: 'https://habr.com/ru/post/526474/'}, {43: 'https://habr.com/ru/post/438514/'}]\n",
      "хочу получить повышение = [{12: 'https://habr.com/ru/post/522524/'}, {23: 'https://habr.com/ru/post/439766/'}, {31: 'https://habr.com/ru/post/206264/'}, {62: 'https://habr.com/ru/post/192218/'}, {84: 'https://habr.com/ru/post/536750/'}, {97: 'https://habr.com/ru/post/423889/'}]\n",
      "хочу получить повышение на работе = [{12: 'https://habr.com/ru/post/522524/'}, {23: 'https://habr.com/ru/post/439766/'}, {31: 'https://habr.com/ru/post/206264/'}, {62: 'https://habr.com/ru/post/192218/'}, {84: 'https://habr.com/ru/post/536750/'}, {97: 'https://habr.com/ru/post/423889/'}]\n",
      "хочу получить повышение -проект = [{31: 'https://habr.com/ru/post/206264/'}]\n",
      "хочу получит повышение -зарплата = [{23: 'https://habr.com/ru/post/439766/'}, {31: 'https://habr.com/ru/post/206264/'}, {62: 'https://habr.com/ru/post/192218/'}, {84: 'https://habr.com/ru/post/536750/'}, {97: 'https://habr.com/ru/post/423889/'}]\n",
      "хочу получить повышение без -работы = []\n"
     ]
    }
   ],
   "source": [
    "# получаем индекс, urls, делаем различные запросы\n",
    "inverted_index = read_index()\n",
    "urls = read_urls()\n",
    "requests = [\n",
    "    \"сообщество (программистов -хабр) OR разработчики\",\n",
    "    \"сообщество\",\n",
    "    \"разработчики\",\n",
    "    \"программистов\",\n",
    "    \"блогеры\",\n",
    "    \"(блогеров OR программистов)\",\n",
    "    \"зная человека\",\n",
    "    \"зная человека можно or (программистов or инженеров) -программистов\",\n",
    "    \"уволить с работы\",\n",
    "    \"сдать проект\",\n",
    "    \"сдать проект or дедлайн\",\n",
    "    \"хочу получить повышение\",\n",
    "    \"хочу получить повышение на работе\",\n",
    "    \"хочу получить повышение -проект\",\n",
    "    \"хочу получит повышение -зарплата\",\n",
    "    \"хочу получить повышение без -работы\"\n",
    "]\n",
    "results = {}\n",
    "for i, request in enumerate(requests):\n",
    "    results[request] = [{item : urls[item]} for i, item in enumerate(sorted(search_request(request, inverted_index)))]\n",
    "for key, result in results.items():\n",
    "    print(f'{key} = {result}')\n",
    "write_results(results)"
   ]
  },
  {
   "cell_type": "code",
   "execution_count": null,
   "metadata": {},
   "outputs": [],
   "source": []
  }
 ],
 "metadata": {
  "kernelspec": {
   "display_name": "Python 3",
   "language": "python",
   "name": "python3"
  },
  "language_info": {
   "codemirror_mode": {
    "name": "ipython",
    "version": 3
   },
   "file_extension": ".py",
   "mimetype": "text/x-python",
   "name": "python",
   "nbconvert_exporter": "python",
   "pygments_lexer": "ipython3",
   "version": "3.7.9"
  }
 },
 "nbformat": 4,
 "nbformat_minor": 4
}
