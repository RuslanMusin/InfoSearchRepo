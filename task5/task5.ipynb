{
 "cells": [
  {
   "cell_type": "code",
   "execution_count": 4,
   "metadata": {},
   "outputs": [],
   "source": [
    "import json\n",
    "\n",
    "# читаем индекс\n",
    "def read_index():\n",
    "    with open('../task4/tf_idf.json', 'r', encoding='utf-8') as file:\n",
    "        return json.load(file)"
   ]
  },
  {
   "cell_type": "code",
   "execution_count": 5,
   "metadata": {},
   "outputs": [],
   "source": [
    "from nltk.corpus import stopwords\n",
    "import string\n",
    "\n",
    "\n",
    "# читаем стоп слова\n",
    "def read_stop_words():\n",
    "    stop_words = stopwords.words(\"russian\")\n",
    "    for ch in string.punctuation:\n",
    "        stop_words.append(ch)\n",
    "    return stop_words"
   ]
  },
  {
   "cell_type": "code",
   "execution_count": 6,
   "metadata": {},
   "outputs": [],
   "source": [
    "from nltk import word_tokenize\n",
    "\n",
    "\n",
    "# получаем токены с текста\n",
    "def get_tokens(text, stop_words):\n",
    "    tokens = word_tokenize(text.replace(\"-\", \" \"), language=\"russian\")\n",
    "    tokens = [i.lower() for i in tokens]\n",
    "    tokens = ([i for i in tokens if i not in stop_words])\n",
    "    tokens = [i for i in tokens if i != \"\" and i.isalpha()]\n",
    "    return tokens"
   ]
  },
  {
   "cell_type": "code",
   "execution_count": 7,
   "metadata": {},
   "outputs": [],
   "source": [
    "import pymorphy2\n",
    "\n",
    "morph = pymorphy2.MorphAnalyzer()\n",
    "\n",
    "# получаем нормальную форма слова\n",
    "def get_lemma(token):\n",
    "    return morph.parse(token)[0].normal_form"
   ]
  },
  {
   "cell_type": "code",
   "execution_count": 8,
   "metadata": {},
   "outputs": [],
   "source": [
    "import math\n",
    "\n",
    "# методы для вычисления tf, idf, tf-idf\n",
    "\n",
    "def compute_tf(term_count, all_terms_count):\n",
    "    return round(term_count / float(all_terms_count), 6)\n",
    "\n",
    "\n",
    "def compute_idf(docs_count, all_docs):\n",
    "    return round(math.log10(all_docs / float(docs_count)), 6)\n",
    "\n",
    "\n",
    "def compute_tf_idf(tf, idf):\n",
    "    return round(tf * idf, 6)"
   ]
  },
  {
   "cell_type": "code",
   "execution_count": 9,
   "metadata": {},
   "outputs": [],
   "source": [
    "# получаем матрицу для документов\n",
    "def get_vector_matrix(index, N):\n",
    "    matrix = []\n",
    "    for i in range(1, N):\n",
    "        matrix.append([])\n",
    "        for term, docs in index.items():\n",
    "            tf_idf = docs[f\"doc_{i}\"][\"tf-idf\"] if f\"doc_{i}\" in docs.keys() else 0\n",
    "            matrix[i - 1].append(tf_idf)\n",
    "    return matrix\n",
    "\n",
    "# записываем матрицу документов\n",
    "def write_vector_matrix(matrix):\n",
    "    with open('matrix.json', 'w', encoding='utf8') as outfile:\n",
    "        json.dump(matrix, outfile, indent=4, ensure_ascii=False)\n",
    "\n",
    "# читаем матрицу документов\n",
    "def read_vector_matrix():\n",
    "    with open('matrix.json', 'r', encoding='utf8') as file:\n",
    "        return json.load(file)"
   ]
  },
  {
   "cell_type": "code",
   "execution_count": 10,
   "metadata": {},
   "outputs": [],
   "source": [
    "# читаем urls\n",
    "def read_urls():\n",
    "    with open('../task1/index.txt') as f:\n",
    "        lines = f.readlines()\n",
    "        result = {}\n",
    "        for i, line in enumerate(lines):\n",
    "            items = line.split(\" \")\n",
    "            url = items[1].replace(\"\\n\", \"\")\n",
    "            result[i + 1] = url\n",
    "        return result"
   ]
  },
  {
   "cell_type": "code",
   "execution_count": 24,
   "metadata": {},
   "outputs": [],
   "source": [
    "# парсим запрос\n",
    "def parse_request(request, index):\n",
    "    stop_words = read_stop_words()\n",
    "    words = [get_lemma(token) for token in get_tokens(request, stop_words)]\n",
    "    words = [item for item in words if item in index.keys()]\n",
    "    return words\n",
    "\n",
    "# заполняем значения для запроса\n",
    "def get_request_vector(words, index):\n",
    "    terms = list(index.keys())\n",
    "    vector = [0] * len(terms)\n",
    "    unique_words = set(words)\n",
    "    for word in unique_words:\n",
    "        count = words.count(word)\n",
    "        tf = compute_tf(count, len(words))\n",
    "        idf = next(iter(index[word].values()))[\"idf\"]\n",
    "        tf_idf = compute_tf_idf(tf, idf)\n",
    "        term_index = terms.index(word)        \n",
    "        vector[term_index] = tf_idf\n",
    "    return vector"
   ]
  },
  {
   "cell_type": "code",
   "execution_count": 25,
   "metadata": {},
   "outputs": [],
   "source": [
    "# ищем запрос с использованием индекса и матрицы\n",
    "def search_request_with_matrix(request, index, matrix):\n",
    "    N = len(matrix)\n",
    "    words = parse_request(request, index)\n",
    "    vector = get_request_vector(words, index)\n",
    "    counter = {}\n",
    "    sim = {}\n",
    "    len_vec = math.sqrt(sum([x ** 2 for x in vector]))\n",
    "    for i in range(1, N):\n",
    "        doc_vector = matrix[i - 1]\n",
    "        mult = sum([vector[j] * doc_vector[j] for j, item in enumerate(doc_vector)])\n",
    "        len_doc = math.sqrt(sum([x ** 2 for x in doc_vector]))\n",
    "        sim[i] = round(mult / (len_vec * len_doc), 6)\n",
    "    filtered_sim = {k:v for k, v in sim.items() if v != 0.0}\n",
    "    sorted_sim = {k:v for k, v in sorted(filtered_sim.items(), key=lambda item: -item[1])}\n",
    "    return sorted_sim"
   ]
  },
  {
   "cell_type": "code",
   "execution_count": 19,
   "metadata": {},
   "outputs": [],
   "source": [
    "# получаем и записываем матрицу документов\n",
    "N = 100\n",
    "index = read_index()\n",
    "matrix = get_vector_matrix(index, N)\n",
    "write_vector_matrix(matrix)"
   ]
  },
  {
   "cell_type": "code",
   "execution_count": 32,
   "metadata": {},
   "outputs": [],
   "source": [
    "# записываем индекс в файл\n",
    "def write_results(results):\n",
    "    with open('results.json', 'w', encoding='utf8') as outfile:\n",
    "        json.dump(results, outfile, indent=4, ensure_ascii=False)"
   ]
  },
  {
   "cell_type": "code",
   "execution_count": 26,
   "metadata": {},
   "outputs": [
    {
     "name": "stdout",
     "output_type": "stream",
     "text": [
      "программисты = [{'doc': 88, 'url': 'https://habr.com/ru/post/210142/', 'tf-idf': 0.299229}, {'doc': 11, 'url': 'https://habr.com/ru/post/183674/', 'tf-idf': 0.080794}, {'doc': 42, 'url': 'https://habr.com/ru/post/275841/', 'tf-idf': 0.059777}, {'doc': 69, 'url': 'https://habr.com/ru/post/51544/', 'tf-idf': 0.036804}, {'doc': 97, 'url': 'https://habr.com/ru/post/423889/', 'tf-idf': 0.032214}, {'doc': 77, 'url': 'https://habr.com/ru/post/192604/', 'tf-idf': 0.020493}, {'doc': 59, 'url': 'https://habr.com/ru/post/488592/', 'tf-idf': 0.01934}, {'doc': 36, 'url': 'https://habr.com/ru/post/86394/', 'tf-idf': 0.018285}, {'doc': 53, 'url': 'https://habr.com/ru/post/450266/', 'tf-idf': 0.0178}, {'doc': 43, 'url': 'https://habr.com/ru/post/438514/', 'tf-idf': 0.017367}, {'doc': 90, 'url': 'https://habr.com/ru/post/70330/', 'tf-idf': 0.015807}, {'doc': 20, 'url': 'https://habr.com/ru/post/129640/', 'tf-idf': 0.015038}, {'doc': 12, 'url': 'https://habr.com/ru/post/522524/', 'tf-idf': 0.014262}, {'doc': 25, 'url': 'https://habr.com/ru/post/273249/', 'tf-idf': 0.012449}, {'doc': 15, 'url': 'https://habr.com/ru/post/543692/', 'tf-idf': 0.011954}, {'doc': 83, 'url': 'https://habr.com/ru/post/497114/', 'tf-idf': 0.010995}, {'doc': 2, 'url': 'https://habr.com/ru/post/110395/', 'tf-idf': 0.009727}, {'doc': 80, 'url': 'https://habr.com/ru/post/161301/', 'tf-idf': 0.009252}, {'doc': 41, 'url': 'https://habr.com/ru/post/142140/', 'tf-idf': 0.008304}, {'doc': 38, 'url': 'https://habr.com/ru/post/126373/', 'tf-idf': 0.005776}, {'doc': 55, 'url': 'https://habr.com/ru/post/178959/', 'tf-idf': 0.003802}]\n",
      "блогеры программисты = [{'doc': 88, 'url': 'https://habr.com/ru/post/210142/', 'tf-idf': 0.090974}, {'doc': 11, 'url': 'https://habr.com/ru/post/183674/', 'tf-idf': 0.024564}, {'doc': 42, 'url': 'https://habr.com/ru/post/275841/', 'tf-idf': 0.018174}, {'doc': 7, 'url': 'https://habr.com/ru/post/183374/', 'tf-idf': 0.014578}, {'doc': 69, 'url': 'https://habr.com/ru/post/51544/', 'tf-idf': 0.01119}, {'doc': 97, 'url': 'https://habr.com/ru/post/423889/', 'tf-idf': 0.009794}, {'doc': 77, 'url': 'https://habr.com/ru/post/192604/', 'tf-idf': 0.006231}, {'doc': 59, 'url': 'https://habr.com/ru/post/488592/', 'tf-idf': 0.00588}, {'doc': 36, 'url': 'https://habr.com/ru/post/86394/', 'tf-idf': 0.005559}, {'doc': 53, 'url': 'https://habr.com/ru/post/450266/', 'tf-idf': 0.005412}, {'doc': 43, 'url': 'https://habr.com/ru/post/438514/', 'tf-idf': 0.00528}, {'doc': 90, 'url': 'https://habr.com/ru/post/70330/', 'tf-idf': 0.004806}, {'doc': 20, 'url': 'https://habr.com/ru/post/129640/', 'tf-idf': 0.004572}, {'doc': 12, 'url': 'https://habr.com/ru/post/522524/', 'tf-idf': 0.004336}, {'doc': 25, 'url': 'https://habr.com/ru/post/273249/', 'tf-idf': 0.003785}, {'doc': 15, 'url': 'https://habr.com/ru/post/543692/', 'tf-idf': 0.003634}, {'doc': 83, 'url': 'https://habr.com/ru/post/497114/', 'tf-idf': 0.003343}, {'doc': 2, 'url': 'https://habr.com/ru/post/110395/', 'tf-idf': 0.002957}, {'doc': 80, 'url': 'https://habr.com/ru/post/161301/', 'tf-idf': 0.002813}, {'doc': 41, 'url': 'https://habr.com/ru/post/142140/', 'tf-idf': 0.002525}, {'doc': 38, 'url': 'https://habr.com/ru/post/126373/', 'tf-idf': 0.001756}, {'doc': 55, 'url': 'https://habr.com/ru/post/178959/', 'tf-idf': 0.001156}]\n",
      "как повысить зарплату = [{'doc': 69, 'url': 'https://habr.com/ru/post/51544/', 'tf-idf': 0.073462}, {'doc': 12, 'url': 'https://habr.com/ru/post/522524/', 'tf-idf': 0.064047}, {'doc': 11, 'url': 'https://habr.com/ru/post/183674/', 'tf-idf': 0.032245}, {'doc': 62, 'url': 'https://habr.com/ru/post/192218/', 'tf-idf': 0.015179}, {'doc': 98, 'url': 'https://habr.com/ru/post/542372/', 'tf-idf': 0.010787}, {'doc': 64, 'url': 'https://habr.com/ru/post/543052/', 'tf-idf': 0.008235}, {'doc': 40, 'url': 'https://habr.com/ru/post/146730/', 'tf-idf': 0.007837}]\n",
      "как получить повышение = [{'doc': 23, 'url': 'https://habr.com/ru/post/439766/', 'tf-idf': 0.029253}, {'doc': 93, 'url': 'https://habr.com/ru/post/254473/', 'tf-idf': 0.021212}, {'doc': 97, 'url': 'https://habr.com/ru/post/423889/', 'tf-idf': 0.016454}, {'doc': 84, 'url': 'https://habr.com/ru/post/536750/', 'tf-idf': 0.015695}, {'doc': 33, 'url': 'https://habr.com/ru/post/127197/', 'tf-idf': 0.014161}, {'doc': 12, 'url': 'https://habr.com/ru/post/522524/', 'tf-idf': 0.012503}, {'doc': 62, 'url': 'https://habr.com/ru/post/192218/', 'tf-idf': 0.010284}, {'doc': 29, 'url': 'https://habr.com/ru/post/543688/', 'tf-idf': 0.009779}, {'doc': 90, 'url': 'https://habr.com/ru/post/70330/', 'tf-idf': 0.009756}, {'doc': 31, 'url': 'https://habr.com/ru/post/206264/', 'tf-idf': 0.008912}, {'doc': 24, 'url': 'https://habr.com/ru/post/131386/', 'tf-idf': 0.005966}, {'doc': 67, 'url': 'https://habr.com/ru/post/185806/', 'tf-idf': 0.004854}, {'doc': 91, 'url': 'https://habr.com/ru/post/480956/', 'tf-idf': 0.004525}, {'doc': 43, 'url': 'https://habr.com/ru/post/438514/', 'tf-idf': 0.004393}, {'doc': 25, 'url': 'https://habr.com/ru/post/273249/', 'tf-idf': 0.004197}, {'doc': 35, 'url': 'https://habr.com/ru/post/176481/', 'tf-idf': 0.003996}, {'doc': 45, 'url': 'https://habr.com/ru/post/147828/', 'tf-idf': 0.00367}, {'doc': 82, 'url': 'https://habr.com/ru/post/222965/', 'tf-idf': 0.003653}, {'doc': 71, 'url': 'https://habr.com/ru/post/476034/', 'tf-idf': 0.003586}, {'doc': 65, 'url': 'https://habr.com/ru/post/134373/', 'tf-idf': 0.003241}, {'doc': 66, 'url': 'https://habr.com/ru/post/335010/', 'tf-idf': 0.003195}, {'doc': 1, 'url': 'https://habr.com/ru/post/149179/', 'tf-idf': 0.003045}, {'doc': 61, 'url': 'https://habr.com/ru/post/102521/', 'tf-idf': 0.002892}, {'doc': 89, 'url': 'https://habr.com/ru/post/49778/', 'tf-idf': 0.002776}, {'doc': 28, 'url': 'https://habr.com/ru/post/117367/', 'tf-idf': 0.002461}, {'doc': 47, 'url': 'https://habr.com/ru/post/234663/', 'tf-idf': 0.002409}, {'doc': 57, 'url': 'https://habr.com/ru/post/157775/', 'tf-idf': 0.002385}, {'doc': 34, 'url': 'https://habr.com/ru/post/172393/', 'tf-idf': 0.002378}, {'doc': 38, 'url': 'https://habr.com/ru/post/126373/', 'tf-idf': 0.002269}, {'doc': 5, 'url': 'https://habr.com/ru/post/465355/', 'tf-idf': 0.002114}, {'doc': 36, 'url': 'https://habr.com/ru/post/86394/', 'tf-idf': 0.002055}, {'doc': 8, 'url': 'https://habr.com/ru/post/454078/', 'tf-idf': 0.002001}, {'doc': 21, 'url': 'https://habr.com/ru/post/185510/', 'tf-idf': 0.001792}, {'doc': 10, 'url': 'https://habr.com/ru/post/68131/', 'tf-idf': 0.001693}, {'doc': 14, 'url': 'https://habr.com/ru/post/347760/', 'tf-idf': 0.001613}, {'doc': 19, 'url': 'https://habr.com/ru/post/543174/', 'tf-idf': 0.001508}, {'doc': 95, 'url': 'https://habr.com/ru/post/134150/', 'tf-idf': 0.001457}, {'doc': 86, 'url': 'https://habr.com/ru/post/117160/', 'tf-idf': 0.00144}, {'doc': 41, 'url': 'https://habr.com/ru/post/142140/', 'tf-idf': 0.0014}, {'doc': 7, 'url': 'https://habr.com/ru/post/183374/', 'tf-idf': 0.001372}, {'doc': 40, 'url': 'https://habr.com/ru/post/146730/', 'tf-idf': 0.00132}, {'doc': 4, 'url': 'https://habr.com/ru/post/206900/', 'tf-idf': 0.001305}, {'doc': 55, 'url': 'https://habr.com/ru/post/178959/', 'tf-idf': 0.001282}, {'doc': 83, 'url': 'https://habr.com/ru/post/497114/', 'tf-idf': 0.001236}, {'doc': 3, 'url': 'https://habr.com/ru/post/541076/', 'tf-idf': 0.001234}, {'doc': 6, 'url': 'https://habr.com/ru/post/534242/', 'tf-idf': 0.001152}, {'doc': 22, 'url': 'https://habr.com/ru/post/316912/', 'tf-idf': 0.000996}, {'doc': 17, 'url': 'https://habr.com/ru/post/117193/', 'tf-idf': 0.000959}, {'doc': 75, 'url': 'https://habr.com/ru/post/491974/', 'tf-idf': 0.00095}, {'doc': 73, 'url': 'https://habr.com/ru/post/483156/', 'tf-idf': 0.000947}, {'doc': 79, 'url': 'https://habr.com/ru/post/211701/', 'tf-idf': 0.000942}, {'doc': 11, 'url': 'https://habr.com/ru/post/183674/', 'tf-idf': 0.000907}, {'doc': 20, 'url': 'https://habr.com/ru/post/129640/', 'tf-idf': 0.000843}, {'doc': 42, 'url': 'https://habr.com/ru/post/275841/', 'tf-idf': 0.00084}, {'doc': 27, 'url': 'https://habr.com/ru/post/415841/', 'tf-idf': 0.000833}, {'doc': 60, 'url': 'https://habr.com/ru/post/152885/', 'tf-idf': 0.000756}, {'doc': 30, 'url': 'https://habr.com/ru/post/507498/', 'tf-idf': 0.000744}, {'doc': 78, 'url': 'https://habr.com/ru/post/67141/', 'tf-idf': 0.000666}, {'doc': 74, 'url': 'https://habr.com/ru/post/217645/', 'tf-idf': 0.000608}, {'doc': 98, 'url': 'https://habr.com/ru/post/542372/', 'tf-idf': 0.000608}, {'doc': 52, 'url': 'https://habr.com/ru/post/448530/', 'tf-idf': 0.000521}, {'doc': 92, 'url': 'https://habr.com/ru/post/543202/', 'tf-idf': 0.000508}, {'doc': 77, 'url': 'https://habr.com/ru/post/192604/', 'tf-idf': 0.000384}, {'doc': 15, 'url': 'https://habr.com/ru/post/543692/', 'tf-idf': 0.000336}, {'doc': 54, 'url': 'https://habr.com/ru/post/440092/', 'tf-idf': 0.000114}]\n",
      "как получить повышение на работе = [{'doc': 23, 'url': 'https://habr.com/ru/post/439766/', 'tf-idf': 0.030981}, {'doc': 93, 'url': 'https://habr.com/ru/post/254473/', 'tf-idf': 0.022256}, {'doc': 97, 'url': 'https://habr.com/ru/post/423889/', 'tf-idf': 0.020818}, {'doc': 84, 'url': 'https://habr.com/ru/post/536750/', 'tf-idf': 0.015893}, {'doc': 12, 'url': 'https://habr.com/ru/post/522524/', 'tf-idf': 0.015714}, {'doc': 33, 'url': 'https://habr.com/ru/post/127197/', 'tf-idf': 0.013942}, {'doc': 43, 'url': 'https://habr.com/ru/post/438514/', 'tf-idf': 0.012628}, {'doc': 62, 'url': 'https://habr.com/ru/post/192218/', 'tf-idf': 0.010669}, {'doc': 90, 'url': 'https://habr.com/ru/post/70330/', 'tf-idf': 0.01036}, {'doc': 29, 'url': 'https://habr.com/ru/post/543688/', 'tf-idf': 0.01016}, {'doc': 31, 'url': 'https://habr.com/ru/post/206264/', 'tf-idf': 0.009459}, {'doc': 98, 'url': 'https://habr.com/ru/post/542372/', 'tf-idf': 0.007311}, {'doc': 11, 'url': 'https://habr.com/ru/post/183674/', 'tf-idf': 0.00707}, {'doc': 57, 'url': 'https://habr.com/ru/post/157775/', 'tf-idf': 0.006407}, {'doc': 7, 'url': 'https://habr.com/ru/post/183374/', 'tf-idf': 0.006021}, {'doc': 67, 'url': 'https://habr.com/ru/post/185806/', 'tf-idf': 0.005989}, {'doc': 24, 'url': 'https://habr.com/ru/post/131386/', 'tf-idf': 0.005873}, {'doc': 16, 'url': 'https://habr.com/ru/post/147042/', 'tf-idf': 0.00584}, {'doc': 36, 'url': 'https://habr.com/ru/post/86394/', 'tf-idf': 0.005519}, {'doc': 40, 'url': 'https://habr.com/ru/post/146730/', 'tf-idf': 0.005423}, {'doc': 73, 'url': 'https://habr.com/ru/post/483156/', 'tf-idf': 0.004966}, {'doc': 71, 'url': 'https://habr.com/ru/post/476034/', 'tf-idf': 0.004548}, {'doc': 66, 'url': 'https://habr.com/ru/post/335010/', 'tf-idf': 0.004506}, {'doc': 91, 'url': 'https://habr.com/ru/post/480956/', 'tf-idf': 0.004455}, {'doc': 65, 'url': 'https://habr.com/ru/post/134373/', 'tf-idf': 0.00432}, {'doc': 17, 'url': 'https://habr.com/ru/post/117193/', 'tf-idf': 0.004208}, {'doc': 25, 'url': 'https://habr.com/ru/post/273249/', 'tf-idf': 0.004132}, {'doc': 35, 'url': 'https://habr.com/ru/post/176481/', 'tf-idf': 0.003934}, {'doc': 45, 'url': 'https://habr.com/ru/post/147828/', 'tf-idf': 0.003897}, {'doc': 34, 'url': 'https://habr.com/ru/post/172393/', 'tf-idf': 0.00369}, {'doc': 82, 'url': 'https://habr.com/ru/post/222965/', 'tf-idf': 0.003597}, {'doc': 69, 'url': 'https://habr.com/ru/post/51544/', 'tf-idf': 0.003517}, {'doc': 28, 'url': 'https://habr.com/ru/post/117367/', 'tf-idf': 0.00347}, {'doc': 55, 'url': 'https://habr.com/ru/post/178959/', 'tf-idf': 0.003443}, {'doc': 38, 'url': 'https://habr.com/ru/post/126373/', 'tf-idf': 0.003336}, {'doc': 8, 'url': 'https://habr.com/ru/post/454078/', 'tf-idf': 0.003185}, {'doc': 1, 'url': 'https://habr.com/ru/post/149179/', 'tf-idf': 0.002998}, {'doc': 20, 'url': 'https://habr.com/ru/post/129640/', 'tf-idf': 0.002987}, {'doc': 5, 'url': 'https://habr.com/ru/post/465355/', 'tf-idf': 0.00298}, {'doc': 14, 'url': 'https://habr.com/ru/post/347760/', 'tf-idf': 0.002962}, {'doc': 27, 'url': 'https://habr.com/ru/post/415841/', 'tf-idf': 0.002945}, {'doc': 61, 'url': 'https://habr.com/ru/post/102521/', 'tf-idf': 0.002848}, {'doc': 83, 'url': 'https://habr.com/ru/post/497114/', 'tf-idf': 0.002794}, {'doc': 21, 'url': 'https://habr.com/ru/post/185510/', 'tf-idf': 0.002783}, {'doc': 89, 'url': 'https://habr.com/ru/post/49778/', 'tf-idf': 0.002733}, {'doc': 60, 'url': 'https://habr.com/ru/post/152885/', 'tf-idf': 0.002673}, {'doc': 44, 'url': 'https://habr.com/ru/post/278827/', 'tf-idf': 0.002666}, {'doc': 30, 'url': 'https://habr.com/ru/post/507498/', 'tf-idf': 0.00263}, {'doc': 26, 'url': 'https://habr.com/ru/post/206742/', 'tf-idf': 0.002509}, {'doc': 47, 'url': 'https://habr.com/ru/post/234663/', 'tf-idf': 0.002372}, {'doc': 51, 'url': 'https://habr.com/ru/post/106684/', 'tf-idf': 0.002372}, {'doc': 19, 'url': 'https://habr.com/ru/post/543174/', 'tf-idf': 0.002342}, {'doc': 42, 'url': 'https://habr.com/ru/post/275841/', 'tf-idf': 0.002254}, {'doc': 41, 'url': 'https://habr.com/ru/post/142140/', 'tf-idf': 0.002171}, {'doc': 75, 'url': 'https://habr.com/ru/post/491974/', 'tf-idf': 0.002145}, {'doc': 86, 'url': 'https://habr.com/ru/post/117160/', 'tf-idf': 0.002029}, {'doc': 22, 'url': 'https://habr.com/ru/post/316912/', 'tf-idf': 0.001828}, {'doc': 92, 'url': 'https://habr.com/ru/post/543202/', 'tf-idf': 0.001797}, {'doc': 81, 'url': 'https://habr.com/ru/post/196282/', 'tf-idf': 0.001761}, {'doc': 53, 'url': 'https://habr.com/ru/post/450266/', 'tf-idf': 0.0017}, {'doc': 10, 'url': 'https://habr.com/ru/post/68131/', 'tf-idf': 0.001667}, {'doc': 95, 'url': 'https://habr.com/ru/post/134150/', 'tf-idf': 0.001434}, {'doc': 70, 'url': 'https://habr.com/ru/post/178339/', 'tf-idf': 0.001351}, {'doc': 79, 'url': 'https://habr.com/ru/post/211701/', 'tf-idf': 0.001328}, {'doc': 4, 'url': 'https://habr.com/ru/post/206900/', 'tf-idf': 0.001285}, {'doc': 3, 'url': 'https://habr.com/ru/post/541076/', 'tf-idf': 0.001215}, {'doc': 15, 'url': 'https://habr.com/ru/post/543692/', 'tf-idf': 0.001188}, {'doc': 64, 'url': 'https://habr.com/ru/post/543052/', 'tf-idf': 0.001182}, {'doc': 6, 'url': 'https://habr.com/ru/post/534242/', 'tf-idf': 0.001134}, {'doc': 88, 'url': 'https://habr.com/ru/post/210142/', 'tf-idf': 0.000953}, {'doc': 78, 'url': 'https://habr.com/ru/post/67141/', 'tf-idf': 0.000941}, {'doc': 58, 'url': 'https://habr.com/ru/post/131581/', 'tf-idf': 0.000938}, {'doc': 9, 'url': 'https://habr.com/ru/post/211845/', 'tf-idf': 0.000924}, {'doc': 18, 'url': 'https://habr.com/ru/post/132668/', 'tf-idf': 0.000842}, {'doc': 13, 'url': 'https://habr.com/ru/post/216315/', 'tf-idf': 0.000829}, {'doc': 68, 'url': 'https://habr.com/ru/post/87060/', 'tf-idf': 0.000819}, {'doc': 46, 'url': 'https://habr.com/ru/post/540136/', 'tf-idf': 0.000714}, {'doc': 74, 'url': 'https://habr.com/ru/post/217645/', 'tf-idf': 0.000599}, {'doc': 50, 'url': 'https://habr.com/ru/post/130877/', 'tf-idf': 0.00054}, {'doc': 96, 'url': 'https://habr.com/ru/post/453596/', 'tf-idf': 0.000538}, {'doc': 52, 'url': 'https://habr.com/ru/post/448530/', 'tf-idf': 0.000513}, {'doc': 2, 'url': 'https://habr.com/ru/post/110395/', 'tf-idf': 0.000464}, {'doc': 77, 'url': 'https://habr.com/ru/post/192604/', 'tf-idf': 0.000378}, {'doc': 54, 'url': 'https://habr.com/ru/post/440092/', 'tf-idf': 0.000211}]\n",
      "как заработать = [{'doc': 66, 'url': 'https://habr.com/ru/post/335010/', 'tf-idf': 0.043491}, {'doc': 85, 'url': 'https://habr.com/ru/post/201172/', 'tf-idf': 0.028056}, {'doc': 16, 'url': 'https://habr.com/ru/post/147042/', 'tf-idf': 0.022653}, {'doc': 40, 'url': 'https://habr.com/ru/post/146730/', 'tf-idf': 0.015995}, {'doc': 62, 'url': 'https://habr.com/ru/post/192218/', 'tf-idf': 0.01158}]\n",
      "как заработать миллион = [{'doc': 66, 'url': 'https://habr.com/ru/post/335010/', 'tf-idf': 0.038037}, {'doc': 85, 'url': 'https://habr.com/ru/post/201172/', 'tf-idf': 0.032076}, {'doc': 16, 'url': 'https://habr.com/ru/post/147042/', 'tf-idf': 0.019813}, {'doc': 23, 'url': 'https://habr.com/ru/post/439766/', 'tf-idf': 0.017524}, {'doc': 46, 'url': 'https://habr.com/ru/post/540136/', 'tf-idf': 0.016376}, {'doc': 27, 'url': 'https://habr.com/ru/post/415841/', 'tf-idf': 0.016249}, {'doc': 14, 'url': 'https://habr.com/ru/post/347760/', 'tf-idf': 0.015751}, {'doc': 40, 'url': 'https://habr.com/ru/post/146730/', 'tf-idf': 0.01399}, {'doc': 6, 'url': 'https://habr.com/ru/post/534242/', 'tf-idf': 0.011244}, {'doc': 62, 'url': 'https://habr.com/ru/post/192218/', 'tf-idf': 0.010128}, {'doc': 42, 'url': 'https://habr.com/ru/post/275841/', 'tf-idf': 0.00819}, {'doc': 75, 'url': 'https://habr.com/ru/post/491974/', 'tf-idf': 0.006943}, {'doc': 25, 'url': 'https://habr.com/ru/post/273249/', 'tf-idf': 0.006819}, {'doc': 96, 'url': 'https://habr.com/ru/post/453596/', 'tf-idf': 0.006174}, {'doc': 83, 'url': 'https://habr.com/ru/post/497114/', 'tf-idf': 0.006025}, {'doc': 84, 'url': 'https://habr.com/ru/post/536750/', 'tf-idf': 0.005066}, {'doc': 64, 'url': 'https://habr.com/ru/post/543052/', 'tf-idf': 0.004517}, {'doc': 55, 'url': 'https://habr.com/ru/post/178959/', 'tf-idf': 0.004166}, {'doc': 15, 'url': 'https://habr.com/ru/post/543692/', 'tf-idf': 0.003276}, {'doc': 29, 'url': 'https://habr.com/ru/post/543688/', 'tf-idf': 0.003055}, {'doc': 41, 'url': 'https://habr.com/ru/post/142140/', 'tf-idf': 0.00152}, {'doc': 65, 'url': 'https://habr.com/ru/post/134373/', 'tf-idf': 0.00108}]\n",
      "миллион = [{'doc': 23, 'url': 'https://habr.com/ru/post/439766/', 'tf-idf': 0.036144}, {'doc': 46, 'url': 'https://habr.com/ru/post/540136/', 'tf-idf': 0.033776}, {'doc': 27, 'url': 'https://habr.com/ru/post/415841/', 'tf-idf': 0.033513}, {'doc': 14, 'url': 'https://habr.com/ru/post/347760/', 'tf-idf': 0.032487}, {'doc': 6, 'url': 'https://habr.com/ru/post/534242/', 'tf-idf': 0.02319}, {'doc': 42, 'url': 'https://habr.com/ru/post/275841/', 'tf-idf': 0.016891}, {'doc': 85, 'url': 'https://habr.com/ru/post/201172/', 'tf-idf': 0.015547}, {'doc': 75, 'url': 'https://habr.com/ru/post/491974/', 'tf-idf': 0.01432}, {'doc': 25, 'url': 'https://habr.com/ru/post/273249/', 'tf-idf': 0.014064}, {'doc': 96, 'url': 'https://habr.com/ru/post/453596/', 'tf-idf': 0.012735}, {'doc': 83, 'url': 'https://habr.com/ru/post/497114/', 'tf-idf': 0.012426}, {'doc': 84, 'url': 'https://habr.com/ru/post/536750/', 'tf-idf': 0.010449}, {'doc': 64, 'url': 'https://habr.com/ru/post/543052/', 'tf-idf': 0.009317}, {'doc': 55, 'url': 'https://habr.com/ru/post/178959/', 'tf-idf': 0.008592}, {'doc': 15, 'url': 'https://habr.com/ru/post/543692/', 'tf-idf': 0.006756}, {'doc': 29, 'url': 'https://habr.com/ru/post/543688/', 'tf-idf': 0.006301}, {'doc': 41, 'url': 'https://habr.com/ru/post/142140/', 'tf-idf': 0.003135}, {'doc': 65, 'url': 'https://habr.com/ru/post/134373/', 'tf-idf': 0.002227}]\n",
      "Wall time: 4.61 s\n"
     ]
    }
   ],
   "source": [
    "%%time\n",
    "# получаем индекс, матрицу и urls\n",
    "N = 100\n",
    "index = read_index()\n",
    "matrix = read_vector_matrix()\n",
    "urls = read_urls()\n",
    "# выполняем запросы\n",
    "requests = [\n",
    "    \"программисты\",\n",
    "    \"блогеры программисты\",\n",
    "    \"как повысить зарплату\",\n",
    "    \"как получить повышение\",\n",
    "    \"как получить повышение на работе\",\n",
    "    \"как заработать\",\n",
    "    \"как заработать миллион\",\n",
    "    \"миллион\",\n",
    "]\n",
    "results = {}\n",
    "for i, request in enumerate(requests):\n",
    "    result = search_request_with_matrix(request, index, matrix)\n",
    "    result_list = results[request] = []\n",
    "    for key, item in result.items():\n",
    "        result_item = {}\n",
    "        result_item[\"doc\"] = key\n",
    "        result_item[\"url\"] = urls[key]\n",
    "        result_item[\"tf-idf\"] = item\n",
    "        result_list.append(result_item)\n",
    "# вывод результата\n",
    "for key, result in results.items():\n",
    "    print(f'{key} = {result}')\n",
    "\n",
    "write_results(results)"
   ]
  },
  {
   "cell_type": "code",
   "execution_count": 12,
   "metadata": {},
   "outputs": [],
   "source": [
    "# получаем словарь документ-слова\n",
    "def get_docs_dict(index, N):\n",
    "    matrix = {}\n",
    "    for i in range(1, N):\n",
    "        doc = matrix[f\"doc_{i}\"] = {}\n",
    "        for term, docs in index.items():\n",
    "            tf_idf = docs[f\"doc_{i}\"][\"tf-idf\"] if f\"doc_{i}\" in docs.keys() else 0\n",
    "            if tf_idf != 0:  \n",
    "                doc[term] = tf_idf\n",
    "    return matrix\n",
    "\n",
    "# записываем значения tf, idf, tf-idf в json и txt(по заданию)\n",
    "def write_docs_dict(matrix):\n",
    "    with open('docs_dict.json', 'w', encoding='utf8') as outfile:\n",
    "        json.dump(matrix, outfile, indent=4, ensure_ascii=False)\n",
    "        \n",
    "def read_docs_dict():\n",
    "    with open('docs_dict.json', 'r', encoding='utf8') as file:\n",
    "        return json.load(file)"
   ]
  },
  {
   "cell_type": "code",
   "execution_count": 30,
   "metadata": {},
   "outputs": [],
   "source": [
    "# парсим запрос\n",
    "def parse_request(request, terms):\n",
    "    stop_words = read_stop_words()\n",
    "    words = [get_lemma(token) for token in get_tokens(request, stop_words)]\n",
    "    words = [item for item in words if item in terms]\n",
    "    return words\n",
    "\n",
    "# вычисляем значения для запроса\n",
    "def get_request_index(words, index):\n",
    "    request_index = {}\n",
    "    unique_words = set(words)\n",
    "    for word in unique_words:\n",
    "        word_item = request_index[word] = {}\n",
    "        word_item[\"count\"] = words.count(word)\n",
    "        word_item[\"tf\"] = compute_tf(word_item[\"count\"], len(words))\n",
    "        word_item[\"idf\"] = next(iter(index[word].values()))[\"idf\"]\n",
    "        word_item[\"tf-idf\"] = compute_tf_idf(word_item[\"tf\"], word_item[\"idf\"])\n",
    "    return request_index\n",
    "\n",
    "# ищем запрос по индексу и словарю документов (по сути разряженной матрице документов)\n",
    "def search_request_by_index(request, index, matrix):\n",
    "    N = len(matrix.keys())\n",
    "    terms = list(index.keys())\n",
    "    words = parse_request(request, terms)\n",
    "    request_index = get_request_index(words, index)\n",
    "    sim = {}\n",
    "    len_vec = math.sqrt(sum([x[\"tf-idf\"] ** 2 for x in request_index.values()]))\n",
    "    for i in range(1, N):\n",
    "        doc = matrix[f\"doc_{i}\"]\n",
    "        len_doc = math.sqrt(sum([x ** 2 for x in doc.values()]))\n",
    "        mult = 0\n",
    "        for key, value in request_index.items():\n",
    "            request_tf_idf = value[\"tf-idf\"]\n",
    "            doc_tf_idf = doc.get(key, 0)\n",
    "            mult += request_tf_idf * doc_tf_idf\n",
    "        sim[i] = round(mult / (len_vec * len_doc), 6)\n",
    "    filtered_sim = {k:v for k, v in sim.items() if v != 0.0}\n",
    "    sorted_sim = {k:v for k, v in sorted(filtered_sim.items(), key=lambda item: -item[1])}\n",
    "    return sorted_sim"
   ]
  },
  {
   "cell_type": "code",
   "execution_count": 27,
   "metadata": {},
   "outputs": [],
   "source": [
    "# получаем и записываем словарь для документов (разряженная матрица документов)\n",
    "N = 100\n",
    "index = read_index()\n",
    "docs_dict = get_docs_dict(index, N)\n",
    "write_docs_dict(docs_dict)"
   ]
  },
  {
   "cell_type": "code",
   "execution_count": 31,
   "metadata": {},
   "outputs": [
    {
     "name": "stdout",
     "output_type": "stream",
     "text": [
      "программисты = [{'doc': 88, 'url': 'https://habr.com/ru/post/210142/', 'tf-idf': 0.299229}, {'doc': 11, 'url': 'https://habr.com/ru/post/183674/', 'tf-idf': 0.080794}, {'doc': 42, 'url': 'https://habr.com/ru/post/275841/', 'tf-idf': 0.059777}, {'doc': 69, 'url': 'https://habr.com/ru/post/51544/', 'tf-idf': 0.036804}, {'doc': 97, 'url': 'https://habr.com/ru/post/423889/', 'tf-idf': 0.032214}, {'doc': 77, 'url': 'https://habr.com/ru/post/192604/', 'tf-idf': 0.020493}, {'doc': 59, 'url': 'https://habr.com/ru/post/488592/', 'tf-idf': 0.01934}, {'doc': 36, 'url': 'https://habr.com/ru/post/86394/', 'tf-idf': 0.018285}, {'doc': 53, 'url': 'https://habr.com/ru/post/450266/', 'tf-idf': 0.0178}, {'doc': 43, 'url': 'https://habr.com/ru/post/438514/', 'tf-idf': 0.017367}, {'doc': 90, 'url': 'https://habr.com/ru/post/70330/', 'tf-idf': 0.015807}, {'doc': 20, 'url': 'https://habr.com/ru/post/129640/', 'tf-idf': 0.015038}, {'doc': 12, 'url': 'https://habr.com/ru/post/522524/', 'tf-idf': 0.014262}, {'doc': 25, 'url': 'https://habr.com/ru/post/273249/', 'tf-idf': 0.012449}, {'doc': 15, 'url': 'https://habr.com/ru/post/543692/', 'tf-idf': 0.011954}, {'doc': 83, 'url': 'https://habr.com/ru/post/497114/', 'tf-idf': 0.010995}, {'doc': 2, 'url': 'https://habr.com/ru/post/110395/', 'tf-idf': 0.009727}, {'doc': 80, 'url': 'https://habr.com/ru/post/161301/', 'tf-idf': 0.009252}, {'doc': 41, 'url': 'https://habr.com/ru/post/142140/', 'tf-idf': 0.008304}, {'doc': 38, 'url': 'https://habr.com/ru/post/126373/', 'tf-idf': 0.005776}, {'doc': 55, 'url': 'https://habr.com/ru/post/178959/', 'tf-idf': 0.003802}]\n",
      "блогеры программисты = [{'doc': 88, 'url': 'https://habr.com/ru/post/210142/', 'tf-idf': 0.090974}, {'doc': 11, 'url': 'https://habr.com/ru/post/183674/', 'tf-idf': 0.024564}, {'doc': 42, 'url': 'https://habr.com/ru/post/275841/', 'tf-idf': 0.018174}, {'doc': 7, 'url': 'https://habr.com/ru/post/183374/', 'tf-idf': 0.014578}, {'doc': 69, 'url': 'https://habr.com/ru/post/51544/', 'tf-idf': 0.01119}, {'doc': 97, 'url': 'https://habr.com/ru/post/423889/', 'tf-idf': 0.009794}, {'doc': 77, 'url': 'https://habr.com/ru/post/192604/', 'tf-idf': 0.006231}, {'doc': 59, 'url': 'https://habr.com/ru/post/488592/', 'tf-idf': 0.00588}, {'doc': 36, 'url': 'https://habr.com/ru/post/86394/', 'tf-idf': 0.005559}, {'doc': 53, 'url': 'https://habr.com/ru/post/450266/', 'tf-idf': 0.005412}, {'doc': 43, 'url': 'https://habr.com/ru/post/438514/', 'tf-idf': 0.00528}, {'doc': 90, 'url': 'https://habr.com/ru/post/70330/', 'tf-idf': 0.004806}, {'doc': 20, 'url': 'https://habr.com/ru/post/129640/', 'tf-idf': 0.004572}, {'doc': 12, 'url': 'https://habr.com/ru/post/522524/', 'tf-idf': 0.004336}, {'doc': 25, 'url': 'https://habr.com/ru/post/273249/', 'tf-idf': 0.003785}, {'doc': 15, 'url': 'https://habr.com/ru/post/543692/', 'tf-idf': 0.003634}, {'doc': 83, 'url': 'https://habr.com/ru/post/497114/', 'tf-idf': 0.003343}, {'doc': 2, 'url': 'https://habr.com/ru/post/110395/', 'tf-idf': 0.002957}, {'doc': 80, 'url': 'https://habr.com/ru/post/161301/', 'tf-idf': 0.002813}, {'doc': 41, 'url': 'https://habr.com/ru/post/142140/', 'tf-idf': 0.002525}, {'doc': 38, 'url': 'https://habr.com/ru/post/126373/', 'tf-idf': 0.001756}, {'doc': 55, 'url': 'https://habr.com/ru/post/178959/', 'tf-idf': 0.001156}]\n",
      "как повысить зарплату = [{'doc': 69, 'url': 'https://habr.com/ru/post/51544/', 'tf-idf': 0.073462}, {'doc': 12, 'url': 'https://habr.com/ru/post/522524/', 'tf-idf': 0.064047}, {'doc': 11, 'url': 'https://habr.com/ru/post/183674/', 'tf-idf': 0.032245}, {'doc': 62, 'url': 'https://habr.com/ru/post/192218/', 'tf-idf': 0.015179}, {'doc': 98, 'url': 'https://habr.com/ru/post/542372/', 'tf-idf': 0.010787}, {'doc': 64, 'url': 'https://habr.com/ru/post/543052/', 'tf-idf': 0.008235}, {'doc': 40, 'url': 'https://habr.com/ru/post/146730/', 'tf-idf': 0.007837}]\n",
      "как получить повышение = [{'doc': 23, 'url': 'https://habr.com/ru/post/439766/', 'tf-idf': 0.029253}, {'doc': 93, 'url': 'https://habr.com/ru/post/254473/', 'tf-idf': 0.021212}, {'doc': 97, 'url': 'https://habr.com/ru/post/423889/', 'tf-idf': 0.016454}, {'doc': 84, 'url': 'https://habr.com/ru/post/536750/', 'tf-idf': 0.015695}, {'doc': 33, 'url': 'https://habr.com/ru/post/127197/', 'tf-idf': 0.014161}, {'doc': 12, 'url': 'https://habr.com/ru/post/522524/', 'tf-idf': 0.012503}, {'doc': 62, 'url': 'https://habr.com/ru/post/192218/', 'tf-idf': 0.010284}, {'doc': 29, 'url': 'https://habr.com/ru/post/543688/', 'tf-idf': 0.009779}, {'doc': 90, 'url': 'https://habr.com/ru/post/70330/', 'tf-idf': 0.009756}, {'doc': 31, 'url': 'https://habr.com/ru/post/206264/', 'tf-idf': 0.008912}, {'doc': 24, 'url': 'https://habr.com/ru/post/131386/', 'tf-idf': 0.005966}, {'doc': 67, 'url': 'https://habr.com/ru/post/185806/', 'tf-idf': 0.004854}, {'doc': 91, 'url': 'https://habr.com/ru/post/480956/', 'tf-idf': 0.004525}, {'doc': 43, 'url': 'https://habr.com/ru/post/438514/', 'tf-idf': 0.004393}, {'doc': 25, 'url': 'https://habr.com/ru/post/273249/', 'tf-idf': 0.004197}, {'doc': 35, 'url': 'https://habr.com/ru/post/176481/', 'tf-idf': 0.003996}, {'doc': 45, 'url': 'https://habr.com/ru/post/147828/', 'tf-idf': 0.00367}, {'doc': 82, 'url': 'https://habr.com/ru/post/222965/', 'tf-idf': 0.003653}, {'doc': 71, 'url': 'https://habr.com/ru/post/476034/', 'tf-idf': 0.003586}, {'doc': 65, 'url': 'https://habr.com/ru/post/134373/', 'tf-idf': 0.003241}, {'doc': 66, 'url': 'https://habr.com/ru/post/335010/', 'tf-idf': 0.003195}, {'doc': 1, 'url': 'https://habr.com/ru/post/149179/', 'tf-idf': 0.003045}, {'doc': 61, 'url': 'https://habr.com/ru/post/102521/', 'tf-idf': 0.002892}, {'doc': 89, 'url': 'https://habr.com/ru/post/49778/', 'tf-idf': 0.002776}, {'doc': 28, 'url': 'https://habr.com/ru/post/117367/', 'tf-idf': 0.002461}, {'doc': 47, 'url': 'https://habr.com/ru/post/234663/', 'tf-idf': 0.002409}, {'doc': 57, 'url': 'https://habr.com/ru/post/157775/', 'tf-idf': 0.002385}, {'doc': 34, 'url': 'https://habr.com/ru/post/172393/', 'tf-idf': 0.002378}, {'doc': 38, 'url': 'https://habr.com/ru/post/126373/', 'tf-idf': 0.002269}, {'doc': 5, 'url': 'https://habr.com/ru/post/465355/', 'tf-idf': 0.002114}, {'doc': 36, 'url': 'https://habr.com/ru/post/86394/', 'tf-idf': 0.002055}, {'doc': 8, 'url': 'https://habr.com/ru/post/454078/', 'tf-idf': 0.002001}, {'doc': 21, 'url': 'https://habr.com/ru/post/185510/', 'tf-idf': 0.001792}, {'doc': 10, 'url': 'https://habr.com/ru/post/68131/', 'tf-idf': 0.001693}, {'doc': 14, 'url': 'https://habr.com/ru/post/347760/', 'tf-idf': 0.001613}, {'doc': 19, 'url': 'https://habr.com/ru/post/543174/', 'tf-idf': 0.001508}, {'doc': 95, 'url': 'https://habr.com/ru/post/134150/', 'tf-idf': 0.001457}, {'doc': 86, 'url': 'https://habr.com/ru/post/117160/', 'tf-idf': 0.00144}, {'doc': 41, 'url': 'https://habr.com/ru/post/142140/', 'tf-idf': 0.0014}, {'doc': 7, 'url': 'https://habr.com/ru/post/183374/', 'tf-idf': 0.001372}, {'doc': 40, 'url': 'https://habr.com/ru/post/146730/', 'tf-idf': 0.00132}, {'doc': 4, 'url': 'https://habr.com/ru/post/206900/', 'tf-idf': 0.001305}, {'doc': 55, 'url': 'https://habr.com/ru/post/178959/', 'tf-idf': 0.001282}, {'doc': 83, 'url': 'https://habr.com/ru/post/497114/', 'tf-idf': 0.001236}, {'doc': 3, 'url': 'https://habr.com/ru/post/541076/', 'tf-idf': 0.001234}, {'doc': 6, 'url': 'https://habr.com/ru/post/534242/', 'tf-idf': 0.001152}, {'doc': 22, 'url': 'https://habr.com/ru/post/316912/', 'tf-idf': 0.000996}, {'doc': 17, 'url': 'https://habr.com/ru/post/117193/', 'tf-idf': 0.000959}, {'doc': 75, 'url': 'https://habr.com/ru/post/491974/', 'tf-idf': 0.00095}, {'doc': 73, 'url': 'https://habr.com/ru/post/483156/', 'tf-idf': 0.000947}, {'doc': 79, 'url': 'https://habr.com/ru/post/211701/', 'tf-idf': 0.000942}, {'doc': 11, 'url': 'https://habr.com/ru/post/183674/', 'tf-idf': 0.000907}, {'doc': 20, 'url': 'https://habr.com/ru/post/129640/', 'tf-idf': 0.000843}, {'doc': 42, 'url': 'https://habr.com/ru/post/275841/', 'tf-idf': 0.00084}, {'doc': 27, 'url': 'https://habr.com/ru/post/415841/', 'tf-idf': 0.000833}, {'doc': 60, 'url': 'https://habr.com/ru/post/152885/', 'tf-idf': 0.000756}, {'doc': 30, 'url': 'https://habr.com/ru/post/507498/', 'tf-idf': 0.000744}, {'doc': 78, 'url': 'https://habr.com/ru/post/67141/', 'tf-idf': 0.000666}, {'doc': 74, 'url': 'https://habr.com/ru/post/217645/', 'tf-idf': 0.000608}, {'doc': 98, 'url': 'https://habr.com/ru/post/542372/', 'tf-idf': 0.000608}, {'doc': 52, 'url': 'https://habr.com/ru/post/448530/', 'tf-idf': 0.000521}, {'doc': 92, 'url': 'https://habr.com/ru/post/543202/', 'tf-idf': 0.000508}, {'doc': 77, 'url': 'https://habr.com/ru/post/192604/', 'tf-idf': 0.000384}, {'doc': 15, 'url': 'https://habr.com/ru/post/543692/', 'tf-idf': 0.000336}, {'doc': 54, 'url': 'https://habr.com/ru/post/440092/', 'tf-idf': 0.000114}]\n",
      "как получить повышение на работе = [{'doc': 23, 'url': 'https://habr.com/ru/post/439766/', 'tf-idf': 0.030981}, {'doc': 93, 'url': 'https://habr.com/ru/post/254473/', 'tf-idf': 0.022256}, {'doc': 97, 'url': 'https://habr.com/ru/post/423889/', 'tf-idf': 0.020818}, {'doc': 84, 'url': 'https://habr.com/ru/post/536750/', 'tf-idf': 0.015893}, {'doc': 12, 'url': 'https://habr.com/ru/post/522524/', 'tf-idf': 0.015714}, {'doc': 33, 'url': 'https://habr.com/ru/post/127197/', 'tf-idf': 0.013942}, {'doc': 43, 'url': 'https://habr.com/ru/post/438514/', 'tf-idf': 0.012628}, {'doc': 62, 'url': 'https://habr.com/ru/post/192218/', 'tf-idf': 0.010669}, {'doc': 90, 'url': 'https://habr.com/ru/post/70330/', 'tf-idf': 0.01036}, {'doc': 29, 'url': 'https://habr.com/ru/post/543688/', 'tf-idf': 0.01016}, {'doc': 31, 'url': 'https://habr.com/ru/post/206264/', 'tf-idf': 0.009459}, {'doc': 98, 'url': 'https://habr.com/ru/post/542372/', 'tf-idf': 0.007311}, {'doc': 11, 'url': 'https://habr.com/ru/post/183674/', 'tf-idf': 0.00707}, {'doc': 57, 'url': 'https://habr.com/ru/post/157775/', 'tf-idf': 0.006407}, {'doc': 7, 'url': 'https://habr.com/ru/post/183374/', 'tf-idf': 0.006021}, {'doc': 67, 'url': 'https://habr.com/ru/post/185806/', 'tf-idf': 0.005989}, {'doc': 24, 'url': 'https://habr.com/ru/post/131386/', 'tf-idf': 0.005873}, {'doc': 16, 'url': 'https://habr.com/ru/post/147042/', 'tf-idf': 0.00584}, {'doc': 36, 'url': 'https://habr.com/ru/post/86394/', 'tf-idf': 0.005519}, {'doc': 40, 'url': 'https://habr.com/ru/post/146730/', 'tf-idf': 0.005423}, {'doc': 73, 'url': 'https://habr.com/ru/post/483156/', 'tf-idf': 0.004966}, {'doc': 71, 'url': 'https://habr.com/ru/post/476034/', 'tf-idf': 0.004548}, {'doc': 66, 'url': 'https://habr.com/ru/post/335010/', 'tf-idf': 0.004506}, {'doc': 91, 'url': 'https://habr.com/ru/post/480956/', 'tf-idf': 0.004455}, {'doc': 65, 'url': 'https://habr.com/ru/post/134373/', 'tf-idf': 0.00432}, {'doc': 17, 'url': 'https://habr.com/ru/post/117193/', 'tf-idf': 0.004208}, {'doc': 25, 'url': 'https://habr.com/ru/post/273249/', 'tf-idf': 0.004132}, {'doc': 35, 'url': 'https://habr.com/ru/post/176481/', 'tf-idf': 0.003934}, {'doc': 45, 'url': 'https://habr.com/ru/post/147828/', 'tf-idf': 0.003897}, {'doc': 34, 'url': 'https://habr.com/ru/post/172393/', 'tf-idf': 0.00369}, {'doc': 82, 'url': 'https://habr.com/ru/post/222965/', 'tf-idf': 0.003597}, {'doc': 69, 'url': 'https://habr.com/ru/post/51544/', 'tf-idf': 0.003517}, {'doc': 28, 'url': 'https://habr.com/ru/post/117367/', 'tf-idf': 0.00347}, {'doc': 55, 'url': 'https://habr.com/ru/post/178959/', 'tf-idf': 0.003443}, {'doc': 38, 'url': 'https://habr.com/ru/post/126373/', 'tf-idf': 0.003336}, {'doc': 8, 'url': 'https://habr.com/ru/post/454078/', 'tf-idf': 0.003185}, {'doc': 1, 'url': 'https://habr.com/ru/post/149179/', 'tf-idf': 0.002998}, {'doc': 20, 'url': 'https://habr.com/ru/post/129640/', 'tf-idf': 0.002987}, {'doc': 5, 'url': 'https://habr.com/ru/post/465355/', 'tf-idf': 0.00298}, {'doc': 14, 'url': 'https://habr.com/ru/post/347760/', 'tf-idf': 0.002962}, {'doc': 27, 'url': 'https://habr.com/ru/post/415841/', 'tf-idf': 0.002945}, {'doc': 61, 'url': 'https://habr.com/ru/post/102521/', 'tf-idf': 0.002848}, {'doc': 83, 'url': 'https://habr.com/ru/post/497114/', 'tf-idf': 0.002794}, {'doc': 21, 'url': 'https://habr.com/ru/post/185510/', 'tf-idf': 0.002783}, {'doc': 89, 'url': 'https://habr.com/ru/post/49778/', 'tf-idf': 0.002733}, {'doc': 60, 'url': 'https://habr.com/ru/post/152885/', 'tf-idf': 0.002673}, {'doc': 44, 'url': 'https://habr.com/ru/post/278827/', 'tf-idf': 0.002666}, {'doc': 30, 'url': 'https://habr.com/ru/post/507498/', 'tf-idf': 0.00263}, {'doc': 26, 'url': 'https://habr.com/ru/post/206742/', 'tf-idf': 0.002509}, {'doc': 47, 'url': 'https://habr.com/ru/post/234663/', 'tf-idf': 0.002372}, {'doc': 51, 'url': 'https://habr.com/ru/post/106684/', 'tf-idf': 0.002372}, {'doc': 19, 'url': 'https://habr.com/ru/post/543174/', 'tf-idf': 0.002342}, {'doc': 42, 'url': 'https://habr.com/ru/post/275841/', 'tf-idf': 0.002254}, {'doc': 41, 'url': 'https://habr.com/ru/post/142140/', 'tf-idf': 0.002171}, {'doc': 75, 'url': 'https://habr.com/ru/post/491974/', 'tf-idf': 0.002145}, {'doc': 86, 'url': 'https://habr.com/ru/post/117160/', 'tf-idf': 0.002029}, {'doc': 22, 'url': 'https://habr.com/ru/post/316912/', 'tf-idf': 0.001828}, {'doc': 92, 'url': 'https://habr.com/ru/post/543202/', 'tf-idf': 0.001797}, {'doc': 81, 'url': 'https://habr.com/ru/post/196282/', 'tf-idf': 0.001761}, {'doc': 53, 'url': 'https://habr.com/ru/post/450266/', 'tf-idf': 0.0017}, {'doc': 10, 'url': 'https://habr.com/ru/post/68131/', 'tf-idf': 0.001667}, {'doc': 95, 'url': 'https://habr.com/ru/post/134150/', 'tf-idf': 0.001434}, {'doc': 70, 'url': 'https://habr.com/ru/post/178339/', 'tf-idf': 0.001351}, {'doc': 79, 'url': 'https://habr.com/ru/post/211701/', 'tf-idf': 0.001328}, {'doc': 4, 'url': 'https://habr.com/ru/post/206900/', 'tf-idf': 0.001285}, {'doc': 3, 'url': 'https://habr.com/ru/post/541076/', 'tf-idf': 0.001215}, {'doc': 15, 'url': 'https://habr.com/ru/post/543692/', 'tf-idf': 0.001188}, {'doc': 64, 'url': 'https://habr.com/ru/post/543052/', 'tf-idf': 0.001182}, {'doc': 6, 'url': 'https://habr.com/ru/post/534242/', 'tf-idf': 0.001134}, {'doc': 88, 'url': 'https://habr.com/ru/post/210142/', 'tf-idf': 0.000953}, {'doc': 78, 'url': 'https://habr.com/ru/post/67141/', 'tf-idf': 0.000941}, {'doc': 58, 'url': 'https://habr.com/ru/post/131581/', 'tf-idf': 0.000938}, {'doc': 9, 'url': 'https://habr.com/ru/post/211845/', 'tf-idf': 0.000924}, {'doc': 18, 'url': 'https://habr.com/ru/post/132668/', 'tf-idf': 0.000842}, {'doc': 13, 'url': 'https://habr.com/ru/post/216315/', 'tf-idf': 0.000829}, {'doc': 68, 'url': 'https://habr.com/ru/post/87060/', 'tf-idf': 0.000819}, {'doc': 46, 'url': 'https://habr.com/ru/post/540136/', 'tf-idf': 0.000714}, {'doc': 74, 'url': 'https://habr.com/ru/post/217645/', 'tf-idf': 0.000599}, {'doc': 50, 'url': 'https://habr.com/ru/post/130877/', 'tf-idf': 0.00054}, {'doc': 96, 'url': 'https://habr.com/ru/post/453596/', 'tf-idf': 0.000538}, {'doc': 52, 'url': 'https://habr.com/ru/post/448530/', 'tf-idf': 0.000513}, {'doc': 2, 'url': 'https://habr.com/ru/post/110395/', 'tf-idf': 0.000464}, {'doc': 77, 'url': 'https://habr.com/ru/post/192604/', 'tf-idf': 0.000378}, {'doc': 54, 'url': 'https://habr.com/ru/post/440092/', 'tf-idf': 0.000211}]\n",
      "как заработать = [{'doc': 66, 'url': 'https://habr.com/ru/post/335010/', 'tf-idf': 0.043491}, {'doc': 85, 'url': 'https://habr.com/ru/post/201172/', 'tf-idf': 0.028056}, {'doc': 16, 'url': 'https://habr.com/ru/post/147042/', 'tf-idf': 0.022653}, {'doc': 40, 'url': 'https://habr.com/ru/post/146730/', 'tf-idf': 0.015995}, {'doc': 62, 'url': 'https://habr.com/ru/post/192218/', 'tf-idf': 0.01158}]\n",
      "как заработать миллион = [{'doc': 66, 'url': 'https://habr.com/ru/post/335010/', 'tf-idf': 0.038037}, {'doc': 85, 'url': 'https://habr.com/ru/post/201172/', 'tf-idf': 0.032076}, {'doc': 16, 'url': 'https://habr.com/ru/post/147042/', 'tf-idf': 0.019813}, {'doc': 23, 'url': 'https://habr.com/ru/post/439766/', 'tf-idf': 0.017524}, {'doc': 46, 'url': 'https://habr.com/ru/post/540136/', 'tf-idf': 0.016376}, {'doc': 27, 'url': 'https://habr.com/ru/post/415841/', 'tf-idf': 0.016249}, {'doc': 14, 'url': 'https://habr.com/ru/post/347760/', 'tf-idf': 0.015751}, {'doc': 40, 'url': 'https://habr.com/ru/post/146730/', 'tf-idf': 0.01399}, {'doc': 6, 'url': 'https://habr.com/ru/post/534242/', 'tf-idf': 0.011244}, {'doc': 62, 'url': 'https://habr.com/ru/post/192218/', 'tf-idf': 0.010128}, {'doc': 42, 'url': 'https://habr.com/ru/post/275841/', 'tf-idf': 0.00819}, {'doc': 75, 'url': 'https://habr.com/ru/post/491974/', 'tf-idf': 0.006943}, {'doc': 25, 'url': 'https://habr.com/ru/post/273249/', 'tf-idf': 0.006819}, {'doc': 96, 'url': 'https://habr.com/ru/post/453596/', 'tf-idf': 0.006174}, {'doc': 83, 'url': 'https://habr.com/ru/post/497114/', 'tf-idf': 0.006025}, {'doc': 84, 'url': 'https://habr.com/ru/post/536750/', 'tf-idf': 0.005066}, {'doc': 64, 'url': 'https://habr.com/ru/post/543052/', 'tf-idf': 0.004517}, {'doc': 55, 'url': 'https://habr.com/ru/post/178959/', 'tf-idf': 0.004166}, {'doc': 15, 'url': 'https://habr.com/ru/post/543692/', 'tf-idf': 0.003276}, {'doc': 29, 'url': 'https://habr.com/ru/post/543688/', 'tf-idf': 0.003055}, {'doc': 41, 'url': 'https://habr.com/ru/post/142140/', 'tf-idf': 0.00152}, {'doc': 65, 'url': 'https://habr.com/ru/post/134373/', 'tf-idf': 0.00108}]\n",
      "миллион = [{'doc': 23, 'url': 'https://habr.com/ru/post/439766/', 'tf-idf': 0.036144}, {'doc': 46, 'url': 'https://habr.com/ru/post/540136/', 'tf-idf': 0.033776}, {'doc': 27, 'url': 'https://habr.com/ru/post/415841/', 'tf-idf': 0.033513}, {'doc': 14, 'url': 'https://habr.com/ru/post/347760/', 'tf-idf': 0.032487}, {'doc': 6, 'url': 'https://habr.com/ru/post/534242/', 'tf-idf': 0.02319}, {'doc': 42, 'url': 'https://habr.com/ru/post/275841/', 'tf-idf': 0.016891}, {'doc': 85, 'url': 'https://habr.com/ru/post/201172/', 'tf-idf': 0.015547}, {'doc': 75, 'url': 'https://habr.com/ru/post/491974/', 'tf-idf': 0.01432}, {'doc': 25, 'url': 'https://habr.com/ru/post/273249/', 'tf-idf': 0.014064}, {'doc': 96, 'url': 'https://habr.com/ru/post/453596/', 'tf-idf': 0.012735}, {'doc': 83, 'url': 'https://habr.com/ru/post/497114/', 'tf-idf': 0.012426}, {'doc': 84, 'url': 'https://habr.com/ru/post/536750/', 'tf-idf': 0.010449}, {'doc': 64, 'url': 'https://habr.com/ru/post/543052/', 'tf-idf': 0.009317}, {'doc': 55, 'url': 'https://habr.com/ru/post/178959/', 'tf-idf': 0.008592}, {'doc': 15, 'url': 'https://habr.com/ru/post/543692/', 'tf-idf': 0.006756}, {'doc': 29, 'url': 'https://habr.com/ru/post/543688/', 'tf-idf': 0.006301}, {'doc': 41, 'url': 'https://habr.com/ru/post/142140/', 'tf-idf': 0.003135}, {'doc': 65, 'url': 'https://habr.com/ru/post/134373/', 'tf-idf': 0.002227}]\n",
      "Wall time: 389 ms\n"
     ]
    }
   ],
   "source": [
    "%%time\n",
    "# получаем индекс, матрицу и urls\n",
    "N = 100\n",
    "index = read_index()\n",
    "matrix = read_docs_dict()\n",
    "urls = read_urls()\n",
    "# выполняем запросы\n",
    "requests = [\n",
    "    \"программисты\",\n",
    "    \"блогеры программисты\",\n",
    "    \"как повысить зарплату\",\n",
    "    \"как получить повышение\",\n",
    "    \"как получить повышение на работе\",\n",
    "    \"как заработать\",\n",
    "    \"как заработать миллион\",\n",
    "    \"миллион\",\n",
    "]\n",
    "results = {}\n",
    "for i, request in enumerate(requests):\n",
    "    result = search_request_by_index(request, index, matrix)\n",
    "    result_list = results[request] = []\n",
    "    for key, item in result.items():\n",
    "        result_item = {}\n",
    "        result_item[\"doc\"] = key\n",
    "        result_item[\"url\"] = urls[key]\n",
    "        result_item[\"tf-idf\"] = item\n",
    "        result_list.append(result_item)\n",
    "# вывод результата\n",
    "for key, result in results.items():\n",
    "    print(f'{key} = {result}')\n",
    "    \n",
    "write_results(results)"
   ]
  },
  {
   "cell_type": "code",
   "execution_count": null,
   "metadata": {},
   "outputs": [],
   "source": []
  }
 ],
 "metadata": {
  "kernelspec": {
   "display_name": "Python 3",
   "language": "python",
   "name": "python3"
  },
  "language_info": {
   "codemirror_mode": {
    "name": "ipython",
    "version": 3
   },
   "file_extension": ".py",
   "mimetype": "text/x-python",
   "name": "python",
   "nbconvert_exporter": "python",
   "pygments_lexer": "ipython3",
   "version": "3.7.9"
  }
 },
 "nbformat": 4,
 "nbformat_minor": 4
}
